{
 "cells": [
  {
   "cell_type": "code",
   "execution_count": 8,
   "metadata": {},
   "outputs": [],
   "source": [
    "import yfinance as yf\n",
    "from sklearn.preprocessing import MinMaxScaler\n",
    "import pandas as pd\n"
   ]
  },
  {
   "cell_type": "code",
   "execution_count": 2,
   "metadata": {},
   "outputs": [
    {
     "name": "stdout",
     "output_type": "stream",
     "text": [
      "[*********************100%***********************]  1 of 1 completed\n"
     ]
    }
   ],
   "source": [
    "df = yf.download(tickers='GBPUSD=X', period='730d', interval='60m')\n"
   ]
  },
  {
   "cell_type": "code",
   "execution_count": 4,
   "metadata": {},
   "outputs": [
    {
     "data": {
      "text/plain": [
       "17323"
      ]
     },
     "execution_count": 4,
     "metadata": {},
     "output_type": "execute_result"
    }
   ],
   "source": [
    "len(df)"
   ]
  },
  {
   "cell_type": "code",
   "execution_count": 5,
   "metadata": {},
   "outputs": [
    {
     "data": {
      "text/html": [
       "<div>\n",
       "<style scoped>\n",
       "    .dataframe tbody tr th:only-of-type {\n",
       "        vertical-align: middle;\n",
       "    }\n",
       "\n",
       "    .dataframe tbody tr th {\n",
       "        vertical-align: top;\n",
       "    }\n",
       "\n",
       "    .dataframe thead th {\n",
       "        text-align: right;\n",
       "    }\n",
       "</style>\n",
       "<table border=\"1\" class=\"dataframe\">\n",
       "  <thead>\n",
       "    <tr style=\"text-align: right;\">\n",
       "      <th></th>\n",
       "      <th>Open</th>\n",
       "      <th>High</th>\n",
       "      <th>Low</th>\n",
       "      <th>Close</th>\n",
       "      <th>Adj Close</th>\n",
       "      <th>Volume</th>\n",
       "    </tr>\n",
       "    <tr>\n",
       "      <th>Datetime</th>\n",
       "      <th></th>\n",
       "      <th></th>\n",
       "      <th></th>\n",
       "      <th></th>\n",
       "      <th></th>\n",
       "      <th></th>\n",
       "    </tr>\n",
       "  </thead>\n",
       "  <tbody>\n",
       "    <tr>\n",
       "      <th>2023-08-07 10:00:00</th>\n",
       "      <td>1.272864</td>\n",
       "      <td>1.273496</td>\n",
       "      <td>1.271989</td>\n",
       "      <td>1.272087</td>\n",
       "      <td>1.272087</td>\n",
       "      <td>0</td>\n",
       "    </tr>\n",
       "    <tr>\n",
       "      <th>2023-08-07 11:00:00</th>\n",
       "      <td>1.272232</td>\n",
       "      <td>1.272750</td>\n",
       "      <td>1.271763</td>\n",
       "      <td>1.272540</td>\n",
       "      <td>1.272540</td>\n",
       "      <td>0</td>\n",
       "    </tr>\n",
       "    <tr>\n",
       "      <th>2023-08-07 12:00:00</th>\n",
       "      <td>1.273107</td>\n",
       "      <td>1.274454</td>\n",
       "      <td>1.272929</td>\n",
       "      <td>1.274454</td>\n",
       "      <td>1.274454</td>\n",
       "      <td>0</td>\n",
       "    </tr>\n",
       "    <tr>\n",
       "      <th>2023-08-07 13:00:00</th>\n",
       "      <td>1.274372</td>\n",
       "      <td>1.277253</td>\n",
       "      <td>1.274113</td>\n",
       "      <td>1.277253</td>\n",
       "      <td>1.277253</td>\n",
       "      <td>0</td>\n",
       "    </tr>\n",
       "    <tr>\n",
       "      <th>2023-08-07 14:00:00</th>\n",
       "      <td>1.277531</td>\n",
       "      <td>1.277955</td>\n",
       "      <td>1.277270</td>\n",
       "      <td>1.277465</td>\n",
       "      <td>1.277465</td>\n",
       "      <td>0</td>\n",
       "    </tr>\n",
       "  </tbody>\n",
       "</table>\n",
       "</div>"
      ],
      "text/plain": [
       "                         Open      High       Low     Close  Adj Close  Volume\n",
       "Datetime                                                                      \n",
       "2023-08-07 10:00:00  1.272864  1.273496  1.271989  1.272087   1.272087       0\n",
       "2023-08-07 11:00:00  1.272232  1.272750  1.271763  1.272540   1.272540       0\n",
       "2023-08-07 12:00:00  1.273107  1.274454  1.272929  1.274454   1.274454       0\n",
       "2023-08-07 13:00:00  1.274372  1.277253  1.274113  1.277253   1.277253       0\n",
       "2023-08-07 14:00:00  1.277531  1.277955  1.277270  1.277465   1.277465       0"
      ]
     },
     "execution_count": 5,
     "metadata": {},
     "output_type": "execute_result"
    }
   ],
   "source": [
    "df.tail()"
   ]
  },
  {
   "cell_type": "code",
   "execution_count": 9,
   "metadata": {},
   "outputs": [],
   "source": [
    "columns_to_normalize = df.columns\n",
    "\n",
    "        # Create the MinMaxScaler and fit it to the data to get the min and max values\n",
    "scaler = MinMaxScaler()\n",
    "scaler.fit(df[columns_to_normalize])\n",
    "\n",
    "# Transform the data using the computed min and max values\n",
    "normalized_data = scaler.transform(df[columns_to_normalize])\n",
    "\n",
    "# Create a new DataFrame with the normalized columns and a _norm suffix\n",
    "normalized_columns = [col + '_norm' for col in columns_to_normalize]\n",
    "normalized_df = pd.DataFrame(normalized_data, columns=normalized_columns)"
   ]
  },
  {
   "cell_type": "code",
   "execution_count": 15,
   "metadata": {},
   "outputs": [],
   "source": [
    "df2 = pd.concat([df, normalized_df], axis=0)"
   ]
  },
  {
   "cell_type": "code",
   "execution_count": 18,
   "metadata": {},
   "outputs": [],
   "source": [
    "for column in normalized_df.columns:\n",
    "    df[column] = normalized_df[column]\n",
    "    "
   ]
  },
  {
   "cell_type": "code",
   "execution_count": 19,
   "metadata": {},
   "outputs": [
    {
     "data": {
      "text/html": [
       "<div>\n",
       "<style scoped>\n",
       "    .dataframe tbody tr th:only-of-type {\n",
       "        vertical-align: middle;\n",
       "    }\n",
       "\n",
       "    .dataframe tbody tr th {\n",
       "        vertical-align: top;\n",
       "    }\n",
       "\n",
       "    .dataframe thead th {\n",
       "        text-align: right;\n",
       "    }\n",
       "</style>\n",
       "<table border=\"1\" class=\"dataframe\">\n",
       "  <thead>\n",
       "    <tr style=\"text-align: right;\">\n",
       "      <th></th>\n",
       "      <th>Open</th>\n",
       "      <th>High</th>\n",
       "      <th>Low</th>\n",
       "      <th>Close</th>\n",
       "      <th>Adj Close</th>\n",
       "      <th>Volume</th>\n",
       "      <th>Open_norm</th>\n",
       "      <th>High_norm</th>\n",
       "      <th>Low_norm</th>\n",
       "      <th>Close_norm</th>\n",
       "      <th>Adj Close_norm</th>\n",
       "      <th>Volume_norm</th>\n",
       "    </tr>\n",
       "    <tr>\n",
       "      <th>Datetime</th>\n",
       "      <th></th>\n",
       "      <th></th>\n",
       "      <th></th>\n",
       "      <th></th>\n",
       "      <th></th>\n",
       "      <th></th>\n",
       "      <th></th>\n",
       "      <th></th>\n",
       "      <th></th>\n",
       "      <th></th>\n",
       "      <th></th>\n",
       "      <th></th>\n",
       "    </tr>\n",
       "  </thead>\n",
       "  <tbody>\n",
       "    <tr>\n",
       "      <th>2020-10-20 00:00:00</th>\n",
       "      <td>1.294783</td>\n",
       "      <td>1.295102</td>\n",
       "      <td>1.294448</td>\n",
       "      <td>1.294783</td>\n",
       "      <td>1.294783</td>\n",
       "      <td>0</td>\n",
       "      <td>NaN</td>\n",
       "      <td>NaN</td>\n",
       "      <td>NaN</td>\n",
       "      <td>NaN</td>\n",
       "      <td>NaN</td>\n",
       "      <td>NaN</td>\n",
       "    </tr>\n",
       "    <tr>\n",
       "      <th>2020-10-20 01:00:00</th>\n",
       "      <td>1.294700</td>\n",
       "      <td>1.295236</td>\n",
       "      <td>1.294348</td>\n",
       "      <td>1.295119</td>\n",
       "      <td>1.295119</td>\n",
       "      <td>0</td>\n",
       "      <td>NaN</td>\n",
       "      <td>NaN</td>\n",
       "      <td>NaN</td>\n",
       "      <td>NaN</td>\n",
       "      <td>NaN</td>\n",
       "      <td>NaN</td>\n",
       "    </tr>\n",
       "    <tr>\n",
       "      <th>2020-10-20 02:00:00</th>\n",
       "      <td>1.294951</td>\n",
       "      <td>1.295824</td>\n",
       "      <td>1.293711</td>\n",
       "      <td>1.294046</td>\n",
       "      <td>1.294046</td>\n",
       "      <td>0</td>\n",
       "      <td>NaN</td>\n",
       "      <td>NaN</td>\n",
       "      <td>NaN</td>\n",
       "      <td>NaN</td>\n",
       "      <td>NaN</td>\n",
       "      <td>NaN</td>\n",
       "    </tr>\n",
       "    <tr>\n",
       "      <th>2020-10-20 03:00:00</th>\n",
       "      <td>1.293795</td>\n",
       "      <td>1.294666</td>\n",
       "      <td>1.293243</td>\n",
       "      <td>1.294415</td>\n",
       "      <td>1.294415</td>\n",
       "      <td>0</td>\n",
       "      <td>NaN</td>\n",
       "      <td>NaN</td>\n",
       "      <td>NaN</td>\n",
       "      <td>NaN</td>\n",
       "      <td>NaN</td>\n",
       "      <td>NaN</td>\n",
       "    </tr>\n",
       "    <tr>\n",
       "      <th>2020-10-20 04:00:00</th>\n",
       "      <td>1.294532</td>\n",
       "      <td>1.295186</td>\n",
       "      <td>1.294130</td>\n",
       "      <td>1.295186</td>\n",
       "      <td>1.295186</td>\n",
       "      <td>0</td>\n",
       "      <td>NaN</td>\n",
       "      <td>NaN</td>\n",
       "      <td>NaN</td>\n",
       "      <td>NaN</td>\n",
       "      <td>NaN</td>\n",
       "      <td>NaN</td>\n",
       "    </tr>\n",
       "    <tr>\n",
       "      <th>...</th>\n",
       "      <td>...</td>\n",
       "      <td>...</td>\n",
       "      <td>...</td>\n",
       "      <td>...</td>\n",
       "      <td>...</td>\n",
       "      <td>...</td>\n",
       "      <td>...</td>\n",
       "      <td>...</td>\n",
       "      <td>...</td>\n",
       "      <td>...</td>\n",
       "      <td>...</td>\n",
       "      <td>...</td>\n",
       "    </tr>\n",
       "    <tr>\n",
       "      <th>2023-08-07 10:00:00</th>\n",
       "      <td>1.272864</td>\n",
       "      <td>1.273496</td>\n",
       "      <td>1.271989</td>\n",
       "      <td>1.272087</td>\n",
       "      <td>1.272087</td>\n",
       "      <td>0</td>\n",
       "      <td>NaN</td>\n",
       "      <td>NaN</td>\n",
       "      <td>NaN</td>\n",
       "      <td>NaN</td>\n",
       "      <td>NaN</td>\n",
       "      <td>NaN</td>\n",
       "    </tr>\n",
       "    <tr>\n",
       "      <th>2023-08-07 11:00:00</th>\n",
       "      <td>1.272232</td>\n",
       "      <td>1.272750</td>\n",
       "      <td>1.271763</td>\n",
       "      <td>1.272540</td>\n",
       "      <td>1.272540</td>\n",
       "      <td>0</td>\n",
       "      <td>NaN</td>\n",
       "      <td>NaN</td>\n",
       "      <td>NaN</td>\n",
       "      <td>NaN</td>\n",
       "      <td>NaN</td>\n",
       "      <td>NaN</td>\n",
       "    </tr>\n",
       "    <tr>\n",
       "      <th>2023-08-07 12:00:00</th>\n",
       "      <td>1.273107</td>\n",
       "      <td>1.274454</td>\n",
       "      <td>1.272929</td>\n",
       "      <td>1.274454</td>\n",
       "      <td>1.274454</td>\n",
       "      <td>0</td>\n",
       "      <td>NaN</td>\n",
       "      <td>NaN</td>\n",
       "      <td>NaN</td>\n",
       "      <td>NaN</td>\n",
       "      <td>NaN</td>\n",
       "      <td>NaN</td>\n",
       "    </tr>\n",
       "    <tr>\n",
       "      <th>2023-08-07 13:00:00</th>\n",
       "      <td>1.274372</td>\n",
       "      <td>1.277253</td>\n",
       "      <td>1.274113</td>\n",
       "      <td>1.277253</td>\n",
       "      <td>1.277253</td>\n",
       "      <td>0</td>\n",
       "      <td>NaN</td>\n",
       "      <td>NaN</td>\n",
       "      <td>NaN</td>\n",
       "      <td>NaN</td>\n",
       "      <td>NaN</td>\n",
       "      <td>NaN</td>\n",
       "    </tr>\n",
       "    <tr>\n",
       "      <th>2023-08-07 14:00:00</th>\n",
       "      <td>1.277531</td>\n",
       "      <td>1.277955</td>\n",
       "      <td>1.277270</td>\n",
       "      <td>1.277465</td>\n",
       "      <td>1.277465</td>\n",
       "      <td>0</td>\n",
       "      <td>NaN</td>\n",
       "      <td>NaN</td>\n",
       "      <td>NaN</td>\n",
       "      <td>NaN</td>\n",
       "      <td>NaN</td>\n",
       "      <td>NaN</td>\n",
       "    </tr>\n",
       "  </tbody>\n",
       "</table>\n",
       "<p>17323 rows × 12 columns</p>\n",
       "</div>"
      ],
      "text/plain": [
       "                         Open      High       Low     Close  Adj Close   \n",
       "Datetime                                                                 \n",
       "2020-10-20 00:00:00  1.294783  1.295102  1.294448  1.294783   1.294783  \\\n",
       "2020-10-20 01:00:00  1.294700  1.295236  1.294348  1.295119   1.295119   \n",
       "2020-10-20 02:00:00  1.294951  1.295824  1.293711  1.294046   1.294046   \n",
       "2020-10-20 03:00:00  1.293795  1.294666  1.293243  1.294415   1.294415   \n",
       "2020-10-20 04:00:00  1.294532  1.295186  1.294130  1.295186   1.295186   \n",
       "...                       ...       ...       ...       ...        ...   \n",
       "2023-08-07 10:00:00  1.272864  1.273496  1.271989  1.272087   1.272087   \n",
       "2023-08-07 11:00:00  1.272232  1.272750  1.271763  1.272540   1.272540   \n",
       "2023-08-07 12:00:00  1.273107  1.274454  1.272929  1.274454   1.274454   \n",
       "2023-08-07 13:00:00  1.274372  1.277253  1.274113  1.277253   1.277253   \n",
       "2023-08-07 14:00:00  1.277531  1.277955  1.277270  1.277465   1.277465   \n",
       "\n",
       "                     Volume  Open_norm  High_norm  Low_norm  Close_norm   \n",
       "Datetime                                                                  \n",
       "2020-10-20 00:00:00       0        NaN        NaN       NaN         NaN  \\\n",
       "2020-10-20 01:00:00       0        NaN        NaN       NaN         NaN   \n",
       "2020-10-20 02:00:00       0        NaN        NaN       NaN         NaN   \n",
       "2020-10-20 03:00:00       0        NaN        NaN       NaN         NaN   \n",
       "2020-10-20 04:00:00       0        NaN        NaN       NaN         NaN   \n",
       "...                     ...        ...        ...       ...         ...   \n",
       "2023-08-07 10:00:00       0        NaN        NaN       NaN         NaN   \n",
       "2023-08-07 11:00:00       0        NaN        NaN       NaN         NaN   \n",
       "2023-08-07 12:00:00       0        NaN        NaN       NaN         NaN   \n",
       "2023-08-07 13:00:00       0        NaN        NaN       NaN         NaN   \n",
       "2023-08-07 14:00:00       0        NaN        NaN       NaN         NaN   \n",
       "\n",
       "                     Adj Close_norm  Volume_norm  \n",
       "Datetime                                          \n",
       "2020-10-20 00:00:00             NaN          NaN  \n",
       "2020-10-20 01:00:00             NaN          NaN  \n",
       "2020-10-20 02:00:00             NaN          NaN  \n",
       "2020-10-20 03:00:00             NaN          NaN  \n",
       "2020-10-20 04:00:00             NaN          NaN  \n",
       "...                             ...          ...  \n",
       "2023-08-07 10:00:00             NaN          NaN  \n",
       "2023-08-07 11:00:00             NaN          NaN  \n",
       "2023-08-07 12:00:00             NaN          NaN  \n",
       "2023-08-07 13:00:00             NaN          NaN  \n",
       "2023-08-07 14:00:00             NaN          NaN  \n",
       "\n",
       "[17323 rows x 12 columns]"
      ]
     },
     "execution_count": 19,
     "metadata": {},
     "output_type": "execute_result"
    }
   ],
   "source": [
    "df"
   ]
  },
  {
   "cell_type": "code",
   "execution_count": 6,
   "metadata": {},
   "outputs": [],
   "source": [
    "# # Calculate the 5-minute and 8-minute moving averages\n",
    "# df['1_d_ma'] = df['Close'].rolling('1d').mean()\n",
    "# df['3_d_ma'] = df['Close'].rolling('3d').mean()\n",
    "# Calculate the 5-minute and 8-minute moving averages\n",
    "df['1_day_ma'] = df['Close'].rolling('1D').mean()\n",
    "df['3_day_ma'] = df['Close'].rolling('3D').mean()\n",
    "df['7_day_ma'] = df['Close'].rolling('7D').mean()\n",
    "# data['1_week_ma'] = data['Close'].rolling('1W').mean()"
   ]
  },
  {
   "cell_type": "code",
   "execution_count": 7,
   "metadata": {},
   "outputs": [],
   "source": [
    "def calculate_rsi(data, window=14):\n",
    "    close_prices = data['Close']\n",
    "    delta = close_prices.diff()\n",
    "    gain = delta.where(delta > 0, 0)\n",
    "    loss = -delta.where(delta < 0, 0)\n",
    "\n",
    "    avg_gain = gain.rolling(window=window).mean()\n",
    "    avg_loss = loss.rolling(window=window).mean()\n",
    "\n",
    "    rs = avg_gain / avg_loss\n",
    "    rsi = 100 - (100 / (1 + rs))\n",
    "    return rsi\n",
    "\n",
    "df['RSI'] = calculate_rsi(df)"
   ]
  },
  {
   "cell_type": "code",
   "execution_count": 11,
   "metadata": {},
   "outputs": [],
   "source": [
    "df['RSI'] = df['RSI'].fillna(0)"
   ]
  },
  {
   "cell_type": "code",
   "execution_count": 13,
   "metadata": {},
   "outputs": [],
   "source": [
    "columns_to_normalize = df.columns\n",
    "\n",
    "# Min-Max scaling relative to itself\n",
    "df[columns_to_normalize] = (df[columns_to_normalize] - df[columns_to_normalize].min()) / (df[columns_to_normalize].max() - df[columns_to_normalize].min())\n",
    "\n",
    "# Assuming you have an RSI column named 'RSI'\n",
    "# Min-Max scaling relative to itself\n",
    "# df['RSI'] = (df['RSI'] - df['RSI'].min()) / (df['RSI'].max() - df['RSI'].min())"
   ]
  },
  {
   "cell_type": "code",
   "execution_count": 17,
   "metadata": {},
   "outputs": [
    {
     "data": {
      "text/html": [
       "<div>\n",
       "<style scoped>\n",
       "    .dataframe tbody tr th:only-of-type {\n",
       "        vertical-align: middle;\n",
       "    }\n",
       "\n",
       "    .dataframe tbody tr th {\n",
       "        vertical-align: top;\n",
       "    }\n",
       "\n",
       "    .dataframe thead th {\n",
       "        text-align: right;\n",
       "    }\n",
       "</style>\n",
       "<table border=\"1\" class=\"dataframe\">\n",
       "  <thead>\n",
       "    <tr style=\"text-align: right;\">\n",
       "      <th></th>\n",
       "      <th>Open</th>\n",
       "      <th>High</th>\n",
       "      <th>Low</th>\n",
       "      <th>Close</th>\n",
       "      <th>Adj Close</th>\n",
       "      <th>Volume</th>\n",
       "      <th>1_day_ma</th>\n",
       "      <th>3_day_ma</th>\n",
       "      <th>7_day_ma</th>\n",
       "      <th>RSI</th>\n",
       "    </tr>\n",
       "    <tr>\n",
       "      <th>Datetime</th>\n",
       "      <th></th>\n",
       "      <th></th>\n",
       "      <th></th>\n",
       "      <th></th>\n",
       "      <th></th>\n",
       "      <th></th>\n",
       "      <th></th>\n",
       "      <th></th>\n",
       "      <th></th>\n",
       "      <th></th>\n",
       "    </tr>\n",
       "  </thead>\n",
       "  <tbody>\n",
       "    <tr>\n",
       "      <th>2020-10-06 00:00:00</th>\n",
       "      <td>0.674864</td>\n",
       "      <td>0.659741</td>\n",
       "      <td>0.675883</td>\n",
       "      <td>0.673953</td>\n",
       "      <td>0.673953</td>\n",
       "      <td>NaN</td>\n",
       "      <td>0.665863</td>\n",
       "      <td>0.655855</td>\n",
       "      <td>0.644831</td>\n",
       "      <td>0.000000</td>\n",
       "    </tr>\n",
       "    <tr>\n",
       "      <th>2020-10-06 01:00:00</th>\n",
       "      <td>0.676264</td>\n",
       "      <td>0.660337</td>\n",
       "      <td>0.677062</td>\n",
       "      <td>0.674128</td>\n",
       "      <td>0.674128</td>\n",
       "      <td>NaN</td>\n",
       "      <td>0.665955</td>\n",
       "      <td>0.655951</td>\n",
       "      <td>0.644931</td>\n",
       "      <td>0.000000</td>\n",
       "    </tr>\n",
       "    <tr>\n",
       "      <th>2020-10-06 02:00:00</th>\n",
       "      <td>0.676352</td>\n",
       "      <td>0.660246</td>\n",
       "      <td>0.675796</td>\n",
       "      <td>0.672377</td>\n",
       "      <td>0.672377</td>\n",
       "      <td>NaN</td>\n",
       "      <td>0.665371</td>\n",
       "      <td>0.655345</td>\n",
       "      <td>0.644295</td>\n",
       "      <td>0.000000</td>\n",
       "    </tr>\n",
       "    <tr>\n",
       "      <th>2020-10-06 03:00:00</th>\n",
       "      <td>0.673508</td>\n",
       "      <td>0.658367</td>\n",
       "      <td>0.675403</td>\n",
       "      <td>0.673428</td>\n",
       "      <td>0.673428</td>\n",
       "      <td>NaN</td>\n",
       "      <td>0.665355</td>\n",
       "      <td>0.655329</td>\n",
       "      <td>0.644278</td>\n",
       "      <td>0.000000</td>\n",
       "    </tr>\n",
       "    <tr>\n",
       "      <th>2020-10-06 04:00:00</th>\n",
       "      <td>0.674252</td>\n",
       "      <td>0.661667</td>\n",
       "      <td>0.675665</td>\n",
       "      <td>0.673078</td>\n",
       "      <td>0.673078</td>\n",
       "      <td>NaN</td>\n",
       "      <td>0.665272</td>\n",
       "      <td>0.655243</td>\n",
       "      <td>0.644188</td>\n",
       "      <td>0.000000</td>\n",
       "    </tr>\n",
       "    <tr>\n",
       "      <th>...</th>\n",
       "      <td>...</td>\n",
       "      <td>...</td>\n",
       "      <td>...</td>\n",
       "      <td>...</td>\n",
       "      <td>...</td>\n",
       "      <td>...</td>\n",
       "      <td>...</td>\n",
       "      <td>...</td>\n",
       "      <td>...</td>\n",
       "      <td>...</td>\n",
       "    </tr>\n",
       "    <tr>\n",
       "      <th>2023-07-21 18:00:00</th>\n",
       "      <td>0.641089</td>\n",
       "      <td>0.623813</td>\n",
       "      <td>0.642731</td>\n",
       "      <td>0.639865</td>\n",
       "      <td>0.639865</td>\n",
       "      <td>NaN</td>\n",
       "      <td>0.631690</td>\n",
       "      <td>0.635815</td>\n",
       "      <td>0.643315</td>\n",
       "      <td>0.441254</td>\n",
       "    </tr>\n",
       "    <tr>\n",
       "      <th>2023-07-21 19:00:00</th>\n",
       "      <td>0.641261</td>\n",
       "      <td>0.625160</td>\n",
       "      <td>0.643587</td>\n",
       "      <td>0.639951</td>\n",
       "      <td>0.639951</td>\n",
       "      <td>NaN</td>\n",
       "      <td>0.631679</td>\n",
       "      <td>0.635073</td>\n",
       "      <td>0.642700</td>\n",
       "      <td>0.429423</td>\n",
       "    </tr>\n",
       "    <tr>\n",
       "      <th>2023-07-21 20:00:00</th>\n",
       "      <td>0.641603</td>\n",
       "      <td>0.623408</td>\n",
       "      <td>0.641405</td>\n",
       "      <td>0.639565</td>\n",
       "      <td>0.639565</td>\n",
       "      <td>NaN</td>\n",
       "      <td>0.631575</td>\n",
       "      <td>0.634346</td>\n",
       "      <td>0.642107</td>\n",
       "      <td>0.426008</td>\n",
       "    </tr>\n",
       "    <tr>\n",
       "      <th>2023-07-21 21:00:00</th>\n",
       "      <td>0.641089</td>\n",
       "      <td>0.624172</td>\n",
       "      <td>0.642175</td>\n",
       "      <td>0.639049</td>\n",
       "      <td>0.639049</td>\n",
       "      <td>NaN</td>\n",
       "      <td>0.631426</td>\n",
       "      <td>0.633632</td>\n",
       "      <td>0.641510</td>\n",
       "      <td>0.343311</td>\n",
       "    </tr>\n",
       "    <tr>\n",
       "      <th>2023-07-21 22:00:00</th>\n",
       "      <td>0.639718</td>\n",
       "      <td>0.621435</td>\n",
       "      <td>0.642217</td>\n",
       "      <td>0.638492</td>\n",
       "      <td>0.638492</td>\n",
       "      <td>NaN</td>\n",
       "      <td>0.631234</td>\n",
       "      <td>0.632900</td>\n",
       "      <td>0.640903</td>\n",
       "      <td>0.420935</td>\n",
       "    </tr>\n",
       "  </tbody>\n",
       "</table>\n",
       "<p>17309 rows × 10 columns</p>\n",
       "</div>"
      ],
      "text/plain": [
       "                         Open      High       Low     Close  Adj Close   \n",
       "Datetime                                                                 \n",
       "2020-10-06 00:00:00  0.674864  0.659741  0.675883  0.673953   0.673953  \\\n",
       "2020-10-06 01:00:00  0.676264  0.660337  0.677062  0.674128   0.674128   \n",
       "2020-10-06 02:00:00  0.676352  0.660246  0.675796  0.672377   0.672377   \n",
       "2020-10-06 03:00:00  0.673508  0.658367  0.675403  0.673428   0.673428   \n",
       "2020-10-06 04:00:00  0.674252  0.661667  0.675665  0.673078   0.673078   \n",
       "...                       ...       ...       ...       ...        ...   \n",
       "2023-07-21 18:00:00  0.641089  0.623813  0.642731  0.639865   0.639865   \n",
       "2023-07-21 19:00:00  0.641261  0.625160  0.643587  0.639951   0.639951   \n",
       "2023-07-21 20:00:00  0.641603  0.623408  0.641405  0.639565   0.639565   \n",
       "2023-07-21 21:00:00  0.641089  0.624172  0.642175  0.639049   0.639049   \n",
       "2023-07-21 22:00:00  0.639718  0.621435  0.642217  0.638492   0.638492   \n",
       "\n",
       "                     Volume  1_day_ma  3_day_ma  7_day_ma       RSI  \n",
       "Datetime                                                             \n",
       "2020-10-06 00:00:00     NaN  0.665863  0.655855  0.644831  0.000000  \n",
       "2020-10-06 01:00:00     NaN  0.665955  0.655951  0.644931  0.000000  \n",
       "2020-10-06 02:00:00     NaN  0.665371  0.655345  0.644295  0.000000  \n",
       "2020-10-06 03:00:00     NaN  0.665355  0.655329  0.644278  0.000000  \n",
       "2020-10-06 04:00:00     NaN  0.665272  0.655243  0.644188  0.000000  \n",
       "...                     ...       ...       ...       ...       ...  \n",
       "2023-07-21 18:00:00     NaN  0.631690  0.635815  0.643315  0.441254  \n",
       "2023-07-21 19:00:00     NaN  0.631679  0.635073  0.642700  0.429423  \n",
       "2023-07-21 20:00:00     NaN  0.631575  0.634346  0.642107  0.426008  \n",
       "2023-07-21 21:00:00     NaN  0.631426  0.633632  0.641510  0.343311  \n",
       "2023-07-21 22:00:00     NaN  0.631234  0.632900  0.640903  0.420935  \n",
       "\n",
       "[17309 rows x 10 columns]"
      ]
     },
     "execution_count": 17,
     "metadata": {},
     "output_type": "execute_result"
    }
   ],
   "source": [
    "df"
   ]
  },
  {
   "cell_type": "code",
   "execution_count": 19,
   "metadata": {},
   "outputs": [],
   "source": [
    "# Calculate the 5-minute and 8-minute moving averages\n",
    "df['1_day_ma'] = df['Close'].rolling('1D').mean()\n",
    "df['3_day_ma'] = df['Close'].rolling('3D').mean()\n",
    "df['7_day_ma'] = df['Close'].rolling('7D').mean()\n",
    "# data['1_week_ma'] = data['Close'].rolling('1W').mean()\n"
   ]
  },
  {
   "cell_type": "code",
   "execution_count": 19,
   "metadata": {},
   "outputs": [
    {
     "data": {
      "text/plain": [
       "Index(['Open', 'High', 'Low', 'Close', 'Adj Close', 'Volume', '1_day_ma',\n",
       "       '3_day_ma', '7_day_ma', 'RSI'],\n",
       "      dtype='object')"
      ]
     },
     "execution_count": 19,
     "metadata": {},
     "output_type": "execute_result"
    }
   ],
   "source": [
    "df.columns"
   ]
  },
  {
   "cell_type": "code",
   "execution_count": 21,
   "metadata": {},
   "outputs": [],
   "source": [
    "save_df = df[['Open', 'High', 'Low', 'Close', '1_day_ma',\n",
    "       '3_day_ma', '7_day_ma', 'RSI']]\n",
    "save_df.to_csv('740.csv')"
   ]
  },
  {
   "cell_type": "code",
   "execution_count": 24,
   "metadata": {},
   "outputs": [],
   "source": [
    "import numpy as np"
   ]
  },
  {
   "cell_type": "code",
   "execution_count": 25,
   "metadata": {},
   "outputs": [
    {
     "data": {
      "text/plain": [
       "array([0.6748636 , 0.65974134, 0.67588323, 0.67395324, 0.6658626 ,\n",
       "       0.65585506, 0.6448309 , 0.        ], dtype=float32)"
      ]
     },
     "execution_count": 25,
     "metadata": {},
     "output_type": "execute_result"
    }
   ],
   "source": [
    "save_df.iloc[0][save_df.columns].values.astype(np.float32)"
   ]
  },
  {
   "cell_type": "code",
   "execution_count": 27,
   "metadata": {},
   "outputs": [],
   "source": [
    "import pandas as pd"
   ]
  },
  {
   "cell_type": "code",
   "execution_count": 41,
   "metadata": {},
   "outputs": [],
   "source": [
    "save_df.to_csv('740.csv', index=False)"
   ]
  },
  {
   "cell_type": "code",
   "execution_count": 38,
   "metadata": {},
   "outputs": [],
   "source": [
    "df2 = pd.read_csv('test.csv')"
   ]
  },
  {
   "cell_type": "code",
   "execution_count": 39,
   "metadata": {},
   "outputs": [
    {
     "data": {
      "text/plain": [
       "Index(['Open', 'High', 'Low', 'Close', '1_day_ma', '3_day_ma', '7_day_ma',\n",
       "       'RSI'],\n",
       "      dtype='object')"
      ]
     },
     "execution_count": 39,
     "metadata": {},
     "output_type": "execute_result"
    }
   ],
   "source": [
    "df2.columns"
   ]
  },
  {
   "cell_type": "code",
   "execution_count": 40,
   "metadata": {},
   "outputs": [
    {
     "data": {
      "text/plain": [
       "array([0.6748636 , 0.65974134, 0.67588323, 0.67395324, 0.6658626 ,\n",
       "       0.65585506, 0.6448309 , 0.        ], dtype=float32)"
      ]
     },
     "execution_count": 40,
     "metadata": {},
     "output_type": "execute_result"
    }
   ],
   "source": [
    "df2.iloc[0][df2.columns].values.astype(np.float32)"
   ]
  },
  {
   "cell_type": "code",
   "execution_count": 6,
   "metadata": {},
   "outputs": [],
   "source": [
    "import pickle\n",
    "import matplotlib.pyplot as plt"
   ]
  },
  {
   "cell_type": "code",
   "execution_count": 7,
   "metadata": {},
   "outputs": [],
   "source": [
    "with open('rewards.pkl', 'rb') as f:\n",
    "    rew = pickle.load(f)"
   ]
  },
  {
   "cell_type": "code",
   "execution_count": 8,
   "metadata": {},
   "outputs": [],
   "source": [
    "with open('portfolio.pkl', 'rb') as f:\n",
    "    port = pickle.load(f)"
   ]
  },
  {
   "cell_type": "code",
   "execution_count": 16,
   "metadata": {},
   "outputs": [
    {
     "data": {
      "text/plain": [
       "[<matplotlib.lines.Line2D at 0x12b6b6460>]"
      ]
     },
     "execution_count": 16,
     "metadata": {},
     "output_type": "execute_result"
    },
    {
     "data": {
      "image/png": "[encoded data removed]",
      "text/plain": [
       "<Figure size 640x480 with 1 Axes>"
      ]
     },
     "metadata": {},
     "output_type": "display_data"
    }
   ],
   "source": [
    "plt.plot(rew)"
   ]
  },
  {
   "cell_type": "code",
   "execution_count": 17,
   "metadata": {},
   "outputs": [
    {
     "data": {
      "text/plain": [
       "[<matplotlib.lines.Line2D at 0x12b6e9b50>]"
      ]
     },
     "execution_count": 17,
     "metadata": {},
     "output_type": "execute_result"
    },
    {
     "data": {
      "image/png": "[encoded data removed]",
      "text/plain": [
       "<Figure size 640x480 with 1 Axes>"
      ]
     },
     "metadata": {},
     "output_type": "display_data"
    }
   ],
   "source": [
    "plt.plot(port)"
   ]
  },
  {
   "cell_type": "code",
   "execution_count": 28,
   "metadata": {},
   "outputs": [
    {
     "data": {
      "text/plain": [
       "Datetime\n",
       "2023-05-01 00:00:00+01:00    1.255982\n",
       "2023-05-01 00:05:00+01:00    1.256029\n",
       "2023-05-01 00:10:00+01:00    1.255966\n",
       "2023-05-01 00:15:00+01:00    1.256155\n",
       "2023-05-01 00:20:00+01:00    1.256250\n",
       "2023-05-01 00:25:00+01:00    1.256345\n",
       "2023-05-01 00:30:00+01:00    1.256360\n",
       "2023-05-01 00:35:00+01:00    1.256108\n",
       "2023-05-01 00:40:00+01:00    1.255887\n",
       "2023-05-01 00:45:00+01:00    1.255824\n",
       "2023-05-01 00:50:00+01:00    1.255840\n",
       "2023-05-01 00:55:00+01:00    1.255934\n",
       "2023-05-01 01:00:00+01:00    1.256171\n",
       "2023-05-01 01:05:00+01:00    1.255934\n",
       "2023-05-01 01:10:00+01:00    1.255950\n",
       "Name: Close, dtype: float64"
      ]
     },
     "execution_count": 28,
     "metadata": {},
     "output_type": "execute_result"
    }
   ],
   "source": [
    "df['Close'][:15]"
   ]
  },
  {
   "cell_type": "code",
   "execution_count": 1,
   "metadata": {},
   "outputs": [],
   "source": [
    "import pandas as pd"
   ]
  },
  {
   "cell_type": "code",
   "execution_count": 2,
   "metadata": {},
   "outputs": [],
   "source": [
    "df = pd.read_csv('data/740.csv')"
   ]
  },
  {
   "cell_type": "code",
   "execution_count": 3,
   "metadata": {},
   "outputs": [
    {
     "data": {
      "text/html": [
       "<div>\n",
       "<style scoped>\n",
       "    .dataframe tbody tr th:only-of-type {\n",
       "        vertical-align: middle;\n",
       "    }\n",
       "\n",
       "    .dataframe tbody tr th {\n",
       "        vertical-align: top;\n",
       "    }\n",
       "\n",
       "    .dataframe thead th {\n",
       "        text-align: right;\n",
       "    }\n",
       "</style>\n",
       "<table border=\"1\" class=\"dataframe\">\n",
       "  <thead>\n",
       "    <tr style=\"text-align: right;\">\n",
       "      <th></th>\n",
       "      <th>Open</th>\n",
       "      <th>High</th>\n",
       "      <th>Low</th>\n",
       "      <th>Close</th>\n",
       "      <th>1_day_ma</th>\n",
       "      <th>3_day_ma</th>\n",
       "      <th>7_day_ma</th>\n",
       "      <th>RSI</th>\n",
       "    </tr>\n",
       "  </thead>\n",
       "  <tbody>\n",
       "    <tr>\n",
       "      <th>12196</th>\n",
       "      <td>0.107971</td>\n",
       "      <td>0.0667</td>\n",
       "      <td>0.005389</td>\n",
       "      <td>0.0</td>\n",
       "      <td>0.010761</td>\n",
       "      <td>0.095561</td>\n",
       "      <td>0.13736</td>\n",
       "      <td>0.094274</td>\n",
       "    </tr>\n",
       "  </tbody>\n",
       "</table>\n",
       "</div>"
      ],
      "text/plain": [
       "           Open    High       Low  Close  1_day_ma  3_day_ma  7_day_ma   \n",
       "12196  0.107971  0.0667  0.005389    0.0  0.010761  0.095561   0.13736  \\\n",
       "\n",
       "            RSI  \n",
       "12196  0.094274  "
      ]
     },
     "execution_count": 3,
     "metadata": {},
     "output_type": "execute_result"
    }
   ],
   "source": [
    "df[df['Close'] == 0]"
   ]
  },
  {
   "cell_type": "code",
   "execution_count": null,
   "metadata": {},
   "outputs": [],
   "source": []
  }
 ],
 "metadata": {
  "kernelspec": {
   "display_name": "Python 3",
   "language": "python",
   "name": "python3"
  },
  "language_info": {
   "codemirror_mode": {
    "name": "ipython",
    "version": 3
   },
   "file_extension": ".py",
   "mimetype": "text/x-python",
   "name": "python",
   "nbconvert_exporter": "python",
   "pygments_lexer": "ipython3",
   "version": "3.9.16"
  },
  "orig_nbformat": 4
 },
 "nbformat": 4,
 "nbformat_minor": 2
}
